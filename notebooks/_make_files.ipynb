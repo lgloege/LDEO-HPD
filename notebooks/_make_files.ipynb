{
 "cells": [
  {
   "cell_type": "markdown",
   "metadata": {},
   "source": [
    "# Make Files \n",
    "Need to make sure units are correct\n",
    "\n",
    "Follow peter for README file https://www.ncei.noaa.gov/access/ocean-carbon-data-system/oceans/\n",
    "\n",
    "Requirements for ​README​:\n",
    "● Original study citation and dataset citation if applicable\n",
    "● Gas transfer velocity (​Kw​) used and the global mean thereof.\n",
    "● The temperature, salinity, and wind products used to calculate ​Kw​ and​ alpha​ should\n",
    "be listed.\n",
    "● Handling of sea-ice with respect to air-sea CO2 fluxes.\n",
    "● The procedure used to calculate ​pco2atm​ with details of the following: xCO​2​ product,\n",
    "interpolation, pH​2​O correction used and pressure product.\n",
    "● Other comments or idiosyncrasies in the dataset that will affect global or regional\n",
    "comparison"
   ]
  },
  {
   "cell_type": "code",
   "execution_count": 1,
   "metadata": {},
   "outputs": [],
   "source": [
    "import air_sea_co2_exchange as ase\n",
    "import numpy as np\n",
    "import xarray as xr\n",
    "import matplotlib.pyplot as plt\n",
    "import glob\n",
    "import seaflux\n",
    "import pandas as pd\n",
    "import datetime\n",
    "from datetime import date\n",
    "import datetime"
   ]
  },
  {
   "cell_type": "markdown",
   "metadata": {},
   "source": [
    "# Put pCO2 and error into common file"
   ]
  },
  {
   "cell_type": "code",
   "execution_count": 2,
   "metadata": {},
   "outputs": [
    {
     "name": "stdout",
     "output_type": "stream",
     "text": [
      "CPU times: user 28.2 s, sys: 51.8 s, total: 1min 20s\n",
      "Wall time: 1min 21s\n"
     ]
    }
   ],
   "source": [
    "%%time\n",
    "# load pco2 data \n",
    "data_dir = '/home/gloege/projects/ldeo_hpd/data/model_output/XGB/GCB_2020_plus_xco2'\n",
    "ds_spco2 = xr.merge([xr.open_dataset(fl) for fl in glob.glob(f'{data_dir}/XGB*.nc')])\n",
    "ds_spco2 = ds_spco2.sel(time=slice(\"1982\",\"2018\"))   \n",
    "\n",
    "# only pick out the variables starting with corrected_\n",
    "variables = list(ds_spco2)\n",
    "match_corr = [var for var in variables if f\"corrected_\" in var]\n",
    "\n",
    "# put all dataarrays in list, add new model coord, \n",
    "#  and change name of each to be spco2\n",
    "merge_files_corr = [\n",
    "    ds_spco2[var]\\\n",
    "    .expand_dims('model')\\\n",
    "    .assign_coords(model=[f\"{var.split('_')[1]}\"])\\\n",
    "    .rename('spco2') for var in match_corr\n",
    "    ]\n",
    "\n",
    "# merge all the files\n",
    "ds_corr = xr.merge(merge_files_corr)"
   ]
  },
  {
   "cell_type": "code",
   "execution_count": 5,
   "metadata": {},
   "outputs": [],
   "source": [
    "del match_corr, merge_files_corr"
   ]
  },
  {
   "cell_type": "code",
   "execution_count": 6,
   "metadata": {},
   "outputs": [
    {
     "name": "stdout",
     "output_type": "stream",
     "text": [
      "CPU times: user 14.1 s, sys: 22.5 s, total: 36.6 s\n",
      "Wall time: 37.6 s\n"
     ]
    }
   ],
   "source": [
    "%%time\n",
    "# load pco2 data \n",
    "data_dir = '/home/gloege/projects/ldeo_hpd/data/model_output/XGB/GCB_2020_plus_xco2'\n",
    "ds_spco2 = xr.merge([xr.open_dataset(fl) for fl in glob.glob(f'{data_dir}/XGB*.nc')])\n",
    "ds_spco2 = ds_spco2.sel(time=slice(\"1982\",\"2018\"))   \n",
    "\n",
    "# only pick out the variables starting with corrected_\n",
    "variables = list(ds_spco2)\n",
    "match_error = [var for var in variables if f\"error_\" in var]\n",
    "\n",
    "# put all DataArrays into a list, add new model coord,\n",
    "#  and change name to error\n",
    "#  hpd outputs error as obs - model\n",
    "#  -1 chnages error to model - obs\n",
    "merge_files_error = [\n",
    "    ds_spco2[var]\\\n",
    "    .expand_dims('model')\\\n",
    "    .assign_coords(model=[f\"{var.split('_')[1]}\"])\\\n",
    "    .rename('error')*(-1) for var in match_error\n",
    "    ]\n",
    "\n",
    "# merge all the files\n",
    "ds_error = xr.merge(merge_files_error)"
   ]
  },
  {
   "cell_type": "code",
   "execution_count": 8,
   "metadata": {},
   "outputs": [],
   "source": [
    "del match_error, merge_files_error"
   ]
  },
  {
   "cell_type": "code",
   "execution_count": 9,
   "metadata": {},
   "outputs": [],
   "source": [
    "# merge corrected and error files\n",
    "ds_merge = xr.merge([ds_corr, ds_error])"
   ]
  },
  {
   "cell_type": "code",
   "execution_count": 17,
   "metadata": {},
   "outputs": [],
   "source": [
    "# variable attributes \n",
    "ds_merge['spco2'].attrs = {'long_name':'sea surface pCO2',\n",
    "                       'standard_name': 'sea surface pCO2' ,\n",
    "                       'units': 'uatm',}\n",
    "\n",
    "ds_merge['error'].attrs = {'long_name':'model minus observations',\n",
    "                       'standard_name': 'model error' ,\n",
    "                       'units': 'uatm',}\n",
    "\n",
    "# coordinate attributes\n",
    "ds_merge['time'].attrs = {'long_name':'time',}\n",
    "\n",
    "ds_merge['lat'].attrs = {'long_name':'latitude',\n",
    "                       'units': 'degrees_north',}\n",
    "ds_merge['lon'].attrs = {'long_name':'longtude',\n",
    "                       'units': 'degrees_east',}\n",
    "ds_merge['model'].attrs = {'long_name':'model name',\n",
    "                       'units': 'NA',}\n",
    "\n",
    "# global attributes\n",
    "now = datetime.datetime.now()\n",
    "ds_merge.attrs = {'institution': 'Lamont-Doherty Earth Observatory (LDEO)',\n",
    "                'version': f\"LDEO-HPD_v{str(date.today()).replace('-','')}\",\n",
    "                'contact': 'Luke Gloege (ljg2157@columbia.edu)',\n",
    "                'creation_date': f'{now.strftime(\"%Y-%m-%d\")}'}"
   ]
  },
  {
   "cell_type": "code",
   "execution_count": 18,
   "metadata": {},
   "outputs": [
    {
     "name": "stdout",
     "output_type": "stream",
     "text": [
      "xarray.Dataset {\n",
      "dimensions:\n",
      "\tlat = 180 ;\n",
      "\tlon = 360 ;\n",
      "\tmodel = 9 ;\n",
      "\ttime = 444 ;\n",
      "\n",
      "variables:\n",
      "\tobject model(model) ;\n",
      "\t\tmodel:long_name = model name ;\n",
      "\t\tmodel:units = NA ;\n",
      "\tdatetime64[ns] time(time) ;\n",
      "\t\ttime:long_name = time ;\n",
      "\tfloat64 lat(lat) ;\n",
      "\t\tlat:long_name = latitude ;\n",
      "\t\tlat:units = degrees_north ;\n",
      "\tfloat64 lon(lon) ;\n",
      "\t\tlon:long_name = longtude ;\n",
      "\t\tlon:units = degrees_east ;\n",
      "\tfloat64 spco2(model, time, lat, lon) ;\n",
      "\t\tspco2:long_name = sea surface pCO2 ;\n",
      "\t\tspco2:standard_name = sea surface pCO2 ;\n",
      "\t\tspco2:units = uatm ;\n",
      "\tfloat32 error(model, time, lat, lon) ;\n",
      "\t\terror:long_name = model minus observations ;\n",
      "\t\terror:standard_name = model error ;\n",
      "\t\terror:units = uatm ;\n",
      "\n",
      "// global attributes:\n",
      "\t:institution = Lamont-Doherty Earth Observatory (LDEO) ;\n",
      "\t:version = LDEO-HPD_v20210425 ;\n",
      "\t:contact = Luke Gloege (ljg2157@columbia.edu) ;\n",
      "\t:creation_date = 2021-04-25 ;\n",
      "}"
     ]
    }
   ],
   "source": [
    "ds_merge.info()"
   ]
  },
  {
   "cell_type": "markdown",
   "metadata": {},
   "source": [
    "## Save file"
   ]
  },
  {
   "cell_type": "code",
   "execution_count": 21,
   "metadata": {},
   "outputs": [],
   "source": [
    "ds_merge.to_netcdf(f\"/local/data/artemis/workspace/gloege/ldeo-hpd/LDEO-HPD_v{str(date.today()).replace('-','')}_1x1_198201-201812.nc\")"
   ]
  },
  {
   "cell_type": "markdown",
   "metadata": {},
   "source": [
    "# Fluxes via fluxkit"
   ]
  },
  {
   "cell_type": "code",
   "execution_count": 2,
   "metadata": {},
   "outputs": [
    {
     "name": "stdout",
     "output_type": "stream",
     "text": [
      "CPU times: user 28 s, sys: 20.3 s, total: 48.4 s\n",
      "Wall time: 48.2 s\n"
     ]
    }
   ],
   "source": [
    "%%time\n",
    "'''\n",
    "wind_products : 'NCEP1' 'NCEP2' 'CCMP2' 'ERA5' 'JRA55'\n",
    "sol   : mol/m3/uatm\n",
    "k2    : cm/hr\n",
    "spco2 : uatm\n",
    "flux  : mol/m2/s\n",
    "'''\n",
    "#-----------------------------------------------------------------------------------------\n",
    "# load pco2 data \n",
    "#-----------------------------------------------------------------------------------------\n",
    "ds_spco2 = xr.open_dataset('/local/data/artemis/workspace/gloege/ldeo-hpd/LDEO-HPD_v20210425_1x1_198201-201812.nc')\n",
    "ds_spco2 = ds_spco2.sel(time=slice(\"1985\",\"2018\"))\n",
    "\n",
    "#-----------------------------------------------------------------------------------------\n",
    "# use fluxkit to calculate flux \n",
    "#-----------------------------------------------------------------------------------------\n",
    "fluxkit_dir = '/data/artemis/observations/SOCOM/extra_files'\n",
    "fluxkit_path=f'{fluxkit_dir}/FluxKit_calculation_1982-2019_v20201120.nc'\n",
    "fk = (xr.open_dataset(fluxkit_path))\n",
    "\n",
    "# change times to center on 15th of month\n",
    "fk['time'] = pd.date_range(\n",
    "    start=f'1985-01T00:00:00.000000000', \n",
    "    end=f'2018-12T00:00:00.000000000',freq='MS') + np.timedelta64(14, 'D')\n",
    "\n",
    "# replace longitude to 0-360\n",
    "fk['lon'] = list(map(lambda x: x+360 if x<0 else x, fk['lon'].values))\n",
    "\n",
    "# sort by longitude\n",
    "fk = fk.sortby('lon')\n",
    "\n",
    "# fill spco2 with climatology (uatm)\n",
    "spco2_filled = ds_spco2['spco2'].fillna(fk.spco2_clim * fk.spco2_scaling)\n",
    "\n",
    "# calculate delta pco2 (uatm)\n",
    "dpco2 = spco2_filled - fk.atm\n",
    "\n",
    "# calculate ice weighting (fraction)\n",
    "ice_weighting = 1 - fk.ice.fillna(0)\n",
    "\n",
    "# solubility (mol/m3/uatm) and kw converted from (cm/hr) to (m/s)\n",
    "cm_to_m = (1/100)\n",
    "hr_to_s = (1/3600)\n",
    "sol = fk.sol_Weiss74\n",
    "kw = fk.kw_scaled * cm_to_m * hr_to_s\n",
    "\n",
    "# calculate flux (mol/m2/s)\n",
    "flux = sol * kw * dpco2 * ice_weighting \n"
   ]
  },
  {
   "cell_type": "code",
   "execution_count": 3,
   "metadata": {},
   "outputs": [],
   "source": [
    "#-----------------------------------------------------------------------------------------\n",
    "# put all the components into common file  \n",
    "#-----------------------------------------------------------------------------------------\n",
    "ds_spco2['area'] = fk.area\n",
    "ds_spco2['fgco2'] = flux.transpose('wind','model','time','lat','lon') # mol/m2/s\n",
    "ds_spco2['spco2_filled'] = spco2_filled                               # uatm"
   ]
  },
  {
   "cell_type": "code",
   "execution_count": 4,
   "metadata": {},
   "outputs": [],
   "source": [
    "# organize the data a little \n",
    "ds_out = ds_spco2[['fgco2','spco2','spco2_filled','area']].sel(wind=['CCMP2','ERA5','JRA55'])"
   ]
  },
  {
   "cell_type": "code",
   "execution_count": 5,
   "metadata": {},
   "outputs": [],
   "source": [
    "ds_out['wind'].attrs = {'long_name':'wind products',\n",
    "                       'description': 'Three wind products used for flux calculation (wnd_avg^2 + wnd_sdt^2)^0.5',}"
   ]
  },
  {
   "cell_type": "code",
   "execution_count": 6,
   "metadata": {},
   "outputs": [
    {
     "name": "stdout",
     "output_type": "stream",
     "text": [
      "xarray.Dataset {\n",
      "dimensions:\n",
      "\tlat = 180 ;\n",
      "\tlon = 360 ;\n",
      "\tmodel = 9 ;\n",
      "\ttime = 408 ;\n",
      "\twind = 3 ;\n",
      "\n",
      "variables:\n",
      "\tfloat64 fgco2(wind, model, time, lat, lon) ;\n",
      "\tfloat64 spco2(model, time, lat, lon) ;\n",
      "\t\tspco2:long_name = sea surface pCO2 ;\n",
      "\t\tspco2:standard_name = sea surface pCO2 ;\n",
      "\t\tspco2:units = uatm ;\n",
      "\tfloat64 spco2_filled(model, time, lat, lon) ;\n",
      "\t\tspco2_filled:long_name = sea surface pCO2 ;\n",
      "\t\tspco2_filled:standard_name = sea surface pCO2 ;\n",
      "\t\tspco2_filled:units = uatm ;\n",
      "\tfloat64 area(lat, lon) ;\n",
      "\t\tarea:long_name = area_per_pixel ;\n",
      "\t\tarea:description = area per pixel ;\n",
      "\t\tarea:units = m^2 ;\n",
      "\tobject model(model) ;\n",
      "\t\tmodel:long_name = model name ;\n",
      "\t\tmodel:units = NA ;\n",
      "\tobject wind(wind) ;\n",
      "\t\twind:long_name = wind products ;\n",
      "\t\twind:description = Three wind products used for flux calculation (wnd_avg^2 + wnd_sdt^2)^0.5 ;\n",
      "\tfloat64 lon(lon) ;\n",
      "\t\tlon:long_name = longtude ;\n",
      "\t\tlon:units = degrees_east ;\n",
      "\tfloat64 lat(lat) ;\n",
      "\t\tlat:long_name = latitude ;\n",
      "\t\tlat:units = degrees_north ;\n",
      "\tdatetime64[ns] time(time) ;\n",
      "\t\ttime:long_name = time ;\n",
      "\n",
      "// global attributes:\n",
      "\t:institution = Lamont-Doherty Earth Observatory (LDEO) ;\n",
      "\t:version = LDEO-HPD_v20210425 ;\n",
      "\t:contact = Luke Gloege (ljg2157@columbia.edu) ;\n",
      "\t:creation_date = 2021-04-25 ;\n",
      "}"
     ]
    }
   ],
   "source": [
    "ds_out.info()"
   ]
  },
  {
   "cell_type": "markdown",
   "metadata": {},
   "source": [
    "# global average"
   ]
  },
  {
   "cell_type": "code",
   "execution_count": 7,
   "metadata": {},
   "outputs": [
    {
     "name": "stderr",
     "output_type": "stream",
     "text": [
      "/home/gloege/.conda/envs/tensorflow/lib/python3.7/site-packages/xarray/core/nanops.py:140: RuntimeWarning: Mean of empty slice\n",
      "  return np.nanmean(a, axis=axis, dtype=dtype)\n"
     ]
    },
    {
     "name": "stdout",
     "output_type": "stream",
     "text": [
      "CPU times: user 9.83 s, sys: 5.93 s, total: 15.8 s\n",
      "Wall time: 15.8 s\n"
     ]
    }
   ],
   "source": [
    "%%time\n",
    "file_list = [ds_out['fgco2'].sel(model=mod).mean('wind') for mod in list(ds_out.model.values)]\n",
    "da_fgco2 = xr.concat(file_list, dim='model')"
   ]
  },
  {
   "cell_type": "code",
   "execution_count": 8,
   "metadata": {},
   "outputs": [
    {
     "name": "stdout",
     "output_type": "stream",
     "text": [
      "CPU times: user 729 ms, sys: 2.25 s, total: 2.98 s\n",
      "Wall time: 2.98 s\n"
     ]
    }
   ],
   "source": [
    "%%time\n",
    "# calculate regional averages (mol/m2/s)\n",
    "grams_in_mol = 12.01            # g/mol\n",
    "sec_to_year = 86400 * 365       # sec/year\n",
    "gram_to_petagram = 1 / (10**15) # Pg/g\n",
    "\n",
    "# conversion to mol/s to Pg/yr\n",
    "conversion = grams_in_mol * gram_to_petagram * sec_to_year\n",
    "    \n",
    "# calculate global fluxes\n",
    "flux_tmp = da_fgco2 * ds_out['area'] * conversion"
   ]
  },
  {
   "cell_type": "code",
   "execution_count": 9,
   "metadata": {},
   "outputs": [
    {
     "name": "stdout",
     "output_type": "stream",
     "text": [
      "CPU times: user 152 ms, sys: 118 ms, total: 270 ms\n",
      "Wall time: 269 ms\n"
     ]
    }
   ],
   "source": [
    "%%time\n",
    "# masking because sum makes NaN 0 when summing\n",
    "tmp = (flux_tmp[1,:,:,:].mean(['lat','lon']).notnull()*1)\n",
    "mask = tmp.where(tmp==1)"
   ]
  },
  {
   "cell_type": "markdown",
   "metadata": {},
   "source": [
    "## calculate global average"
   ]
  },
  {
   "cell_type": "code",
   "execution_count": 10,
   "metadata": {},
   "outputs": [],
   "source": [
    "# RECCAP2 regions \n",
    "ds_regions = xr.open_dataset('/home/gloege/projects/ldeo_hpd/data/regions/RECCAP2_region_masks_all.nc')"
   ]
  },
  {
   "cell_type": "code",
   "execution_count": 11,
   "metadata": {},
   "outputs": [],
   "source": [
    "region_global = (ds_regions[f'open_ocean']>=1)*1"
   ]
  },
  {
   "cell_type": "code",
   "execution_count": 12,
   "metadata": {},
   "outputs": [
    {
     "name": "stdout",
     "output_type": "stream",
     "text": [
      "CPU times: user 1.31 s, sys: 1.69 s, total: 3 s\n",
      "Wall time: 3 s\n"
     ]
    }
   ],
   "source": [
    "%%time\n",
    "flux_region1 = [(flux_tmp[i,:,:,:] * region_global).\\\n",
    "               sum(['lat','lon']).rename('fgco2_glob') for i in range(0,9)]"
   ]
  },
  {
   "cell_type": "code",
   "execution_count": 13,
   "metadata": {},
   "outputs": [],
   "source": [
    "ds_tmp = xr.concat(flux_region1, dim='model')"
   ]
  },
  {
   "cell_type": "code",
   "execution_count": 14,
   "metadata": {},
   "outputs": [],
   "source": [
    "flux_region = ds_tmp * mask"
   ]
  },
  {
   "cell_type": "code",
   "execution_count": 15,
   "metadata": {},
   "outputs": [],
   "source": [
    "ds_out['fgco2_glob'] = flux_region"
   ]
  },
  {
   "cell_type": "code",
   "execution_count": 16,
   "metadata": {},
   "outputs": [],
   "source": [
    "ds_out['fgco2_avg'] = da_fgco2.rename('fgco2_avg')"
   ]
  },
  {
   "cell_type": "code",
   "execution_count": 17,
   "metadata": {},
   "outputs": [],
   "source": [
    "ds_out['fgco2_glob'].attrs = {'long_name':'global CO2 flux density',\n",
    "                       'standard_name': 'global CO2 flux density' ,\n",
    "                       'units': 'PgC/yr' ,}\n",
    "ds_out['fgco2'].attrs = {'long_name':'CO2 flux density',\n",
    "                       'standard_name': 'CO2 flux density' ,\n",
    "                       'units': 'mol/m2/s' ,}"
   ]
  },
  {
   "cell_type": "code",
   "execution_count": 18,
   "metadata": {},
   "outputs": [
    {
     "data": {
      "text/plain": [
       "<xarray.Dataset>\n",
       "Dimensions:       (lat: 180, lon: 360, model: 9, time: 408, wind: 3)\n",
       "Coordinates:\n",
       "  * model         (model) object 'cesm' 'cnrm' ... 'planktom' 'princeton'\n",
       "  * wind          (wind) object 'CCMP2' 'ERA5' 'JRA55'\n",
       "  * lon           (lon) float64 0.5 1.5 2.5 3.5 4.5 ... 356.5 357.5 358.5 359.5\n",
       "  * lat           (lat) float64 -89.5 -88.5 -87.5 -86.5 ... 86.5 87.5 88.5 89.5\n",
       "  * time          (time) datetime64[ns] 1985-01-15 1985-02-15 ... 2018-12-15\n",
       "Data variables:\n",
       "    fgco2         (wind, model, time, lat, lon) float64 nan nan nan ... nan nan\n",
       "    spco2         (model, time, lat, lon) float64 ...\n",
       "    spco2_filled  (model, time, lat, lon) float64 nan nan nan ... 324.6 324.1\n",
       "    area          (lat, lon) float64 nan nan nan ... 1.074e+08 1.074e+08\n",
       "    fgco2_glob    (model, time) float64 -2.169 -1.467 -1.993 ... -2.826 -2.955\n",
       "    fgco2_avg     (model, time, lat, lon) float64 nan nan nan ... nan nan nan\n",
       "Attributes:\n",
       "    institution:    Lamont-Doherty Earth Observatory (LDEO)\n",
       "    version:        LDEO-HPD_v20210425\n",
       "    contact:        Luke Gloege (ljg2157@columbia.edu)\n",
       "    creation_date:  2021-04-25"
      ]
     },
     "execution_count": 18,
     "metadata": {},
     "output_type": "execute_result"
    }
   ],
   "source": [
    "ds_out"
   ]
  },
  {
   "cell_type": "markdown",
   "metadata": {},
   "source": [
    "## save data"
   ]
  },
  {
   "cell_type": "code",
   "execution_count": 19,
   "metadata": {},
   "outputs": [],
   "source": [
    "ds_out[['spco2','spco2_filled']].to_netcdf(f\"/local/data/artemis/workspace/gloege/ldeo-hpd/LDEO-HPD_spco2_v{str(date.today()).replace('-','')}_1x1_198201-201812.nc\")"
   ]
  },
  {
   "cell_type": "code",
   "execution_count": 20,
   "metadata": {},
   "outputs": [],
   "source": [
    "ds_out[['fgco2_glob','fgco2_avg','area']].to_netcdf(f\"/local/data/artemis/workspace/gloege/ldeo-hpd/LDEO-HPD_fgco2_v{str(date.today()).replace('-','')}_1x1_198201-201812.nc\")"
   ]
  },
  {
   "cell_type": "code",
   "execution_count": 22,
   "metadata": {},
   "outputs": [],
   "source": [
    "ds_out[['fgco2']].to_netcdf(f\"/local/data/artemis/workspace/gloege/ldeo-hpd/LDEO-HPD_fgco2-full_v{str(date.today()).replace('-','')}_1x1_198201-201812.nc\")"
   ]
  },
  {
   "cell_type": "code",
   "execution_count": 21,
   "metadata": {},
   "outputs": [
    {
     "name": "stdout",
     "output_type": "stream",
     "text": [
      "xarray.Dataset {\n",
      "dimensions:\n",
      "\tlat = 180 ;\n",
      "\tlon = 360 ;\n",
      "\tmodel = 9 ;\n",
      "\ttime = 408 ;\n",
      "\twind = 3 ;\n",
      "\n",
      "variables:\n",
      "\tfloat64 fgco2(wind, model, time, lat, lon) ;\n",
      "\t\tfgco2:long_name = CO2 flux density ;\n",
      "\t\tfgco2:standard_name = CO2 flux density ;\n",
      "\t\tfgco2:units = mol/m2/s ;\n",
      "\tfloat64 spco2(model, time, lat, lon) ;\n",
      "\t\tspco2:long_name = sea surface pCO2 ;\n",
      "\t\tspco2:standard_name = sea surface pCO2 ;\n",
      "\t\tspco2:units = uatm ;\n",
      "\tfloat64 spco2_filled(model, time, lat, lon) ;\n",
      "\t\tspco2_filled:long_name = sea surface pCO2 ;\n",
      "\t\tspco2_filled:standard_name = sea surface pCO2 ;\n",
      "\t\tspco2_filled:units = uatm ;\n",
      "\tfloat64 area(lat, lon) ;\n",
      "\t\tarea:long_name = area_per_pixel ;\n",
      "\t\tarea:description = area per pixel ;\n",
      "\t\tarea:units = m^2 ;\n",
      "\tobject model(model) ;\n",
      "\t\tmodel:long_name = model name ;\n",
      "\t\tmodel:units = NA ;\n",
      "\tobject wind(wind) ;\n",
      "\t\twind:long_name = wind products ;\n",
      "\t\twind:description = Three wind products used for flux calculation (wnd_avg^2 + wnd_sdt^2)^0.5 ;\n",
      "\tfloat64 lon(lon) ;\n",
      "\t\tlon:long_name = longtude ;\n",
      "\t\tlon:units = degrees_east ;\n",
      "\tfloat64 lat(lat) ;\n",
      "\t\tlat:long_name = latitude ;\n",
      "\t\tlat:units = degrees_north ;\n",
      "\tdatetime64[ns] time(time) ;\n",
      "\t\ttime:long_name = time ;\n",
      "\tfloat64 fgco2_glob(model, time) ;\n",
      "\t\tfgco2_glob:long_name = global CO2 flux density ;\n",
      "\t\tfgco2_glob:standard_name = global CO2 flux density ;\n",
      "\t\tfgco2_glob:units = PgC/yr ;\n",
      "\tfloat64 fgco2_avg(model, time, lat, lon) ;\n",
      "\n",
      "// global attributes:\n",
      "\t:institution = Lamont-Doherty Earth Observatory (LDEO) ;\n",
      "\t:version = LDEO-HPD_v20210425 ;\n",
      "\t:contact = Luke Gloege (ljg2157@columbia.edu) ;\n",
      "\t:creation_date = 2021-04-25 ;\n",
      "}"
     ]
    }
   ],
   "source": [
    "ds_out.info()"
   ]
  },
  {
   "cell_type": "markdown",
   "metadata": {},
   "source": [
    "# Old stuff"
   ]
  },
  {
   "cell_type": "code",
   "execution_count": null,
   "metadata": {},
   "outputs": [],
   "source": [
    "%%time\n",
    "flux_region1 = [(flux_tmp[0,i,:,:,:] * region_global).\\\n",
    "               sum(['lat','lon']).rename('fgco2_glob') for i in range(0,9)]\n",
    "\n",
    "flux_region2 = [(flux_tmp[1,i,:,:,:] * region_global).\\\n",
    "               sum(['lat','lon']).rename('fgco2_glob') for i in range(0,9)]\n",
    "\n",
    "flux_region3 = [(flux_tmp[2,i,:,:,:] * region_global).\\\n",
    "               sum(['lat','lon']).rename('fgco2_glob') for i in range(0,9)]"
   ]
  },
  {
   "cell_type": "code",
   "execution_count": 37,
   "metadata": {},
   "outputs": [],
   "source": [
    "ds_wind1 = xr.concat(flux_region1, dim='model')\n",
    "ds_wind2 = xr.concat(flux_region2, dim='model')\n",
    "ds_wind3 = xr.concat(flux_region3, dim='model')"
   ]
  },
  {
   "cell_type": "code",
   "execution_count": 62,
   "metadata": {},
   "outputs": [],
   "source": [
    "ds_tmp = xr.concat([ds_wind1, ds_wind2, ds_wind3], dim='wind')"
   ]
  },
  {
   "cell_type": "code",
   "execution_count": 41,
   "metadata": {},
   "outputs": [],
   "source": [
    "flux_region = ds_tmp * mask"
   ]
  },
  {
   "cell_type": "code",
   "execution_count": 47,
   "metadata": {},
   "outputs": [],
   "source": [
    "ds_out['fgco2_glob'] = flux_region"
   ]
  }
 ],
 "metadata": {
  "kernelspec": {
   "display_name": "tensorflow",
   "language": "python",
   "name": "tensorflow"
  },
  "language_info": {
   "codemirror_mode": {
    "name": "ipython",
    "version": 3
   },
   "file_extension": ".py",
   "mimetype": "text/x-python",
   "name": "python",
   "nbconvert_exporter": "python",
   "pygments_lexer": "ipython3",
   "version": "3.7.6"
  }
 },
 "nbformat": 4,
 "nbformat_minor": 2
}
