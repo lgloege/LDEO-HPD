{
 "cells": [
  {
   "cell_type": "markdown",
   "metadata": {},
   "source": [
    "# Calcluate statstiics between products and data stest"
   ]
  },
  {
   "cell_type": "code",
   "execution_count": 1,
   "metadata": {},
   "outputs": [],
   "source": [
    "# standard imports\n",
    "import os\n",
    "import scipy\n",
    "import numpy as np\n",
    "import xarray as xr\n",
    "import pandas as pd\n",
    "\n",
    "# machine learning libraries\n",
    "import sklearn  # awesome machine-learning libary with many algorithms implemented\n",
    "import xgboost as xgb    # extreme gradient boosting\n",
    "import tensorflow as tf  # gold standard for neural-networks\n",
    "from sklearn.ensemble import RandomForestRegressor # random forest regressor\n",
    "\n",
    "# train test split\n",
    "from sklearn.model_selection import train_test_split\n",
    "\n",
    "# plotting\n",
    "import cmocean as cm # nice colorbars\n",
    "import matplotlib.pyplot as plt # for making any plots\n",
    "# custom plotting I wrote\n",
    "from plotting_tools.spatial_map import SpatialMap\n",
    "from plotting_tools.time_series_diagram import TimeSeriesPlot\n",
    "\n",
    "# regression metrics\n",
    "from sklearn.metrics import r2_score\n",
    "from sklearn.metrics import max_error\n",
    "from sklearn.metrics import mean_squared_error\n",
    "from sklearn.metrics import mean_absolute_error\n",
    "from sklearn.metrics import median_absolute_error\n",
    "#from sklearn.metrics import explained_variance_score\n",
    "\n",
    "# custom imports\n",
    "import pgml"
   ]
  },
  {
   "cell_type": "code",
   "execution_count": 18,
   "metadata": {},
   "outputs": [],
   "source": [
    "from scipy.stats import pearsonr"
   ]
  },
  {
   "cell_type": "code",
   "execution_count": 98,
   "metadata": {},
   "outputs": [],
   "source": [
    "def bias(y_truth, y_pred):\n",
    "    bias = y_pred.mean('time') - y_truth.mean('time')\n",
    "    bias_mean = bias.mean()\n",
    "    return bias_mean\n",
    "\n",
    "def aae(y_truth, y_pred):\n",
    "    aae = np.abs(y_pred - y_truth).mean('time')\n",
    "    aae_mean = aae.mean()\n",
    "    return aae_mean\n",
    "\n",
    "def rmse(y_truth, y_pred):\n",
    "    rmse = np.sqrt(mean_squared_error(y_truth, y_pred))\n",
    "    return rmse"
   ]
  },
  {
   "cell_type": "code",
   "execution_count": 22,
   "metadata": {},
   "outputs": [],
   "source": [
    "# hybrid model output\n",
    "dir_output = '/local/data/artemis/workspace/gloege/LDEO-FFN/data/HPD_output/HPD_feat'\n",
    "\n",
    "# hybrid file dictionary\n",
    "dict_spco2 = {'CCSM':  f'{dir_output}/HPD-feat_CCSM_spco2_1x1_mon_198201-201712.nc',\n",
    "              'CNRM':  f'{dir_output}/HPD-feat_CNRM_spco2_1x1_mon_198201-201712.nc',\n",
    "              'MPI':   f'{dir_output}/HPD-feat_MPI_spco2_1x1_mon_198201-201712.nc',\n",
    "              'NEMO':  f'{dir_output}/HPD-feat_NEMO_spco2_1x1_mon_198201-201712.nc',\n",
    "              'NORESM':f'{dir_output}/HPD-feat_NORESM_spco2_1x1_mon_198201-201712.nc',   \n",
    "              'RECOM': f'{dir_output}/HPD-feat_RECOM_spco2_1x1_mon_198201-201712.nc',\n",
    "              'all':   f'{dir_output}/HPD-feat-all_spco2_1x1_mon_198201-201712.nc'\n",
    "              }\n",
    "\n",
    "# Model as target\n",
    "#dir_hpd = '/local/data/artemis/workspace/gloege/LDEO-FFN/data/HPD_output/HPD_feat'\n",
    "ds_hpd_feat = xr.open_mfdataset([dict_spco2[model] for model in ['CCSM', 'CNRM', 'MPI', 'NEMO', 'NORESM', 'RECOM']],\n",
    "                               combine='nested', \n",
    "                               concat_dim='models').mean('models')\n",
    "ds_hpd_feat = ds_hpd_feat.transpose('time', 'lat', 'lon')"
   ]
  },
  {
   "cell_type": "code",
   "execution_count": 161,
   "metadata": {},
   "outputs": [],
   "source": [
    "ds_hpd_feat_all = xr.open_dataset(dict_spco2['all'])"
   ]
  },
  {
   "cell_type": "code",
   "execution_count": 146,
   "metadata": {},
   "outputs": [],
   "source": [
    "dir_output = '/local/data/artemis/workspace/gloege/LDEO-FFN/data/HPD_output/HPD_target'\n",
    "\n",
    "# hybrid file dictionary\n",
    "dict_spco2_tar = {'CCSM':  f'{dir_output}/HPD-target_CCSM_spco2_1x1_mon_198201-201712.nc',\n",
    "                  'CNRM':  f'{dir_output}/HPD-target_CNRM_spco2_1x1_mon_198201-201712.nc',\n",
    "                  'MPI':    f'{dir_output}/HPD-target_MPI_spco2_1x1_mon_198201-201712.nc',\n",
    "                  'NEMO':  f'{dir_output}/HPD-target_NEMO_spco2_1x1_mon_198201-201712.nc',\n",
    "                  'NORESM':f'{dir_output}/HPD-target_NORESM_spco2_1x1_mon_198201-201712.nc',   \n",
    "                  'RECOM': f'{dir_output}/HPD-target_RECOM_spco2_1x1_mon_198201-201712.nc',}\n",
    "\n",
    "# Model as target\n",
    "#dir_hpd = '/local/data/artemis/workspace/gloege/LDEO-FFN/data/HPD_output/HPD_feat'\n",
    "ds_hpd_tar = xr.open_mfdataset([dict_spco2_tar[model] for model in dict_spco2_tar.keys()],\n",
    "                               combine='nested', \n",
    "                               concat_dim='models').mean('models')\n",
    "ds_hpd_tar = ds_hpd_tar.transpose('time', 'lat', 'lon')"
   ]
  },
  {
   "cell_type": "code",
   "execution_count": 3,
   "metadata": {},
   "outputs": [],
   "source": [
    "mod_dir = '/local/data/artemis/observations/GCB_hindcast_models/processed/fgco2'\n",
    "dict_fgco2 = {'CCSM':  f'{mod_dir}/CCSM-BEC_fgco2_1x1_198201-201712.nc',\n",
    "              'CNRM':  f'{mod_dir}/CNRM-ESM2_fgco2_1x1_198201-201712.nc',\n",
    "              'MPI':   f'{mod_dir}/MPI_fgco2_1x1_198201-201712.nc',\n",
    "              'NEMO':  f'{mod_dir}/NEMO-planktom_fgco2_1x1_198201-201712.nc',\n",
    "              'NORESM':f'{mod_dir}/NorESM_fgco2_1x1_198201-201712.nc',\n",
    "              'RECOM': f'{mod_dir}/REcoM_jra_fgco2_1x1_198201-201712.nc',}\n",
    "\n"
   ]
  },
  {
   "cell_type": "code",
   "execution_count": 84,
   "metadata": {},
   "outputs": [],
   "source": [
    "prod_dir = '/local/data/artemis/workspace/gloege/products/clean'\n",
    "\n",
    "dict_prod = {'CSIR':  f'{prod_dir}/CSIR-ML6_1x1_198201-201612.nc', \n",
    "             'SOMFFN':  f'{prod_dir}/SOM-FFN_1x1_198201-201512.nc',\n",
    "             'JMAMLR':  f'{prod_dir}/JMA-MLR_1x1_199001-201712.nc',  \n",
    "             'LSCE':  f'{prod_dir}/FFNN-LSCE_1x1_198501-201812.nc',}"
   ]
  },
  {
   "cell_type": "code",
   "execution_count": 23,
   "metadata": {},
   "outputs": [],
   "source": [
    "dir_tests = '/local/data/artemis/workspace/gloege/data/test_sets'\n",
    "\n",
    "dict_data = {'glodap': f'{dir_tests}/GLODAP_1x1_198201-201812.nc',\n",
    "            'carioca': f'{dir_tests}/CARIOCA_1x1_198201-201812.nc',\n",
    "            'soccom': f'{dir_tests}/SOCCOM_1x1_198201-201812.nc',\n",
    "            'ldeo': f'{dir_tests}/LDEO_1x1_198201-201812.nc'}"
   ]
  },
  {
   "cell_type": "markdown",
   "metadata": {},
   "source": [
    "# Load time series"
   ]
  },
  {
   "cell_type": "code",
   "execution_count": 97,
   "metadata": {},
   "outputs": [
    {
     "name": "stderr",
     "output_type": "stream",
     "text": [
      "/home/gloege/.conda/envs/tensorflow/lib/python3.7/site-packages/xarray/core/nanops.py:140: RuntimeWarning: Mean of empty slice\n",
      "  return np.nanmean(a, axis=axis, dtype=dtype)\n"
     ]
    }
   ],
   "source": [
    "# time series \n",
    "dir_data = '/local/data/artemis/workspace/gloege'\n",
    "# BATS\n",
    "ds_bats = xr.open_dataset(f'{dir_data}/data/BATS/BATS.nc')\n",
    "\n",
    "# HOT\n",
    "ds_hot = xr.open_dataset(f'{dir_data}/data/HOT/HOT.nc')\n",
    "ds_hot = ds_hot.where(ds_hot['spco2']>0)\n",
    "\n",
    "# locations\n",
    "BATS={'lat':31.83,\n",
    "      'lon':360-(64.17)}\n",
    "\n",
    "HOT={'lat':22.75,\n",
    "      'lon':360-158}\n",
    "\n",
    "ds_hot_mon = ds_hot.resample(time='1M').mean()\n",
    "\n",
    "\n",
    "ds_hot_mon = ds_hot_mon.assign_coords(lon=(202.5),\n",
    "                                      lat=(22.5)).expand_dims(['lat','lon'])\n",
    "ds_hot_mon = ds_hot_mon.transpose('time','lat','lon')\n",
    "\n",
    "### ================================================\n",
    "### force time vector to be proper format and range\n",
    "### ================================================\n",
    "dates = pd.date_range(start='1988-10-01T00:00:00.000000000', \n",
    "                      end='2017-12-01T00:00:00.000000000',\n",
    "                      freq='MS')+ np.timedelta64(14, 'D')\n",
    "da_dates = xr.DataArray(dates, dims='time')\n",
    "ds_hot_mon['time'] = dates\n",
    "ds_hot_mon = ds_hot_mon.squeeze()\n",
    "\n",
    "\n",
    "\n",
    "ds_bats_mon = ds_bats.resample(time='1M').mean()\n",
    "\n",
    "\n",
    "ds_bats_mon = ds_bats_mon.assign_coords(lon=(295.5),\n",
    "                                       lat=(31.5)).expand_dims(['lat','lon'])\n",
    "ds_bats_mon = ds_bats_mon.transpose('time','lat','lon')\n",
    "\n",
    "\n",
    "### ================================================\n",
    "### force time vector to be proper format and range\n",
    "### ================================================\n",
    "dates = pd.date_range(start='1983-09-01T00:00:00.000000000', \n",
    "                      end='2018-08-01T00:00:00.000000000',\n",
    "                      freq='MS')+ np.timedelta64(14, 'D')\n",
    "da_dates = xr.DataArray(dates, dims='time')\n",
    "ds_bats_mon['time'] = dates\n",
    "ds_bats_mon = ds_bats_mon.squeeze()"
   ]
  },
  {
   "cell_type": "markdown",
   "metadata": {},
   "source": [
    "# Calculate statistics between product and dataset"
   ]
  },
  {
   "cell_type": "markdown",
   "metadata": {},
   "source": [
    "## For HPD"
   ]
  },
  {
   "cell_type": "code",
   "execution_count": 157,
   "metadata": {},
   "outputs": [
    {
     "data": {
      "text/plain": [
       "<xarray.Dataset>\n",
       "Dimensions:                    (lat: 180, lon: 360, time: 444)\n",
       "Coordinates:\n",
       "  * time                       (time) datetime64[ns] 1982-01-15 ... 2018-12-15\n",
       "  * lat                        (lat) float64 -89.5 -88.5 -87.5 ... 88.5 89.5\n",
       "  * lon                        (lon) float64 0.5 1.5 2.5 ... 357.5 358.5 359.5\n",
       "Data variables:\n",
       "    fCO2water_SST_wetatm_mean  (time, lat, lon) float64 ...\n",
       "    fCO2water_SST_wetatm_std   (time, lat, lon) float64 ..."
      ]
     },
     "execution_count": 157,
     "metadata": {},
     "output_type": "execute_result"
    }
   ],
   "source": [
    "ds_data"
   ]
  },
  {
   "cell_type": "code",
   "execution_count": 168,
   "metadata": {},
   "outputs": [
    {
     "name": "stderr",
     "output_type": "stream",
     "text": [
      "/home/gloege/.conda/envs/tensorflow/lib/python3.7/site-packages/xarray/core/nanops.py:140: RuntimeWarning: Mean of empty slice\n",
      "  return np.nanmean(a, axis=axis, dtype=dtype)\n"
     ]
    },
    {
     "name": "stdout",
     "output_type": "stream",
     "text": [
      "\n",
      "RMSE: 40.68455234134488\n",
      "bias: -7.247976338073919\n",
      "corr: 0.6330909051609723\n",
      "AAE: 19.030151071734927\n",
      "\n",
      "\n"
     ]
    }
   ],
   "source": [
    "#for product in dict_spco2.keys():\n",
    "#print(f'{product}')\n",
    "\n",
    "ds_data = xr.open_dataset(dict_data['ldeo'])\n",
    "ds_prod = ds_hpd_feat_all.compute()\n",
    "\n",
    "(pred, obs) = xr.align(ds_prod['spco2'], ds_data['spco2_mean'])\n",
    "pred = pred.where((obs>0) & (pred>0))\n",
    "obs = obs.where((obs>0) & (pred>0))\n",
    "\n",
    "txt= f'''\n",
    "RMSE: {rmse(obs.stack(z=['time','lat','lon']).dropna('z').values, \n",
    "            pred.stack(z=['time','lat','lon']).dropna('z').values)}\n",
    "bias: {bias(obs,pred).values}\n",
    "corr: {pearsonr(obs.stack(z=['time','lat','lon']).dropna('z').values, \n",
    "                pred.stack(z=['time','lat','lon']).dropna('z').values)[0]}\n",
    "AAE: {aae(obs,pred).values}\n",
    "\n",
    "'''\n",
    "\n",
    "print(txt)"
   ]
  },
  {
   "cell_type": "code",
   "execution_count": 160,
   "metadata": {},
   "outputs": [
    {
     "name": "stderr",
     "output_type": "stream",
     "text": [
      "/home/gloege/.conda/envs/tensorflow/lib/python3.7/site-packages/dask/array/numpy_compat.py:40: RuntimeWarning: invalid value encountered in true_divide\n",
      "  x = np.divide(x1, x2, out)\n"
     ]
    },
    {
     "name": "stdout",
     "output_type": "stream",
     "text": [
      "\n",
      "RMSE: 9.411250799061813\n",
      "bias: 4.587994294095665\n",
      "corr: 0.9217669041526535\n",
      "AAE: 7.18395057708797\n",
      "\n",
      "\n"
     ]
    }
   ],
   "source": [
    "#for product in dict_prod.keys():\n",
    "#print(f'{product}')\n",
    "\n",
    "ds_data = ds_hot_mon['spco2']\n",
    "ds_prod = ds_hpd_tar.compute().sel(lat=HOT['lat'], lon=HOT['lon'], method='nearest')\n",
    "\n",
    "(pred, obs) = xr.align(ds_prod['spco2_hpd'], ds_data)\n",
    "pred = pred.where((obs>0) & (pred>0))\n",
    "obs = obs.where((obs>0) & (pred>0))\n",
    "\n",
    "txt= f'''\n",
    "RMSE: {rmse(obs.stack(z=['time']).dropna('z').values, \n",
    "            pred.stack(z=['time']).dropna('z').values)}\n",
    "bias: {bias(obs,pred).values}\n",
    "corr: {pearsonr(obs.stack(z=['time']).dropna('z').values, \n",
    "                pred.stack(z=['time']).dropna('z').values)[0]}\n",
    "AAE: {aae(obs,pred).values}\n",
    "\n",
    "'''\n",
    "\n",
    "print(txt)"
   ]
  },
  {
   "cell_type": "markdown",
   "metadata": {},
   "source": [
    "## For other products"
   ]
  },
  {
   "cell_type": "code",
   "execution_count": 120,
   "metadata": {},
   "outputs": [
    {
     "name": "stdout",
     "output_type": "stream",
     "text": [
      "CCSM\n"
     ]
    },
    {
     "name": "stderr",
     "output_type": "stream",
     "text": [
      "/home/gloege/.conda/envs/tensorflow/lib/python3.7/site-packages/xarray/core/nanops.py:140: RuntimeWarning: Mean of empty slice\n",
      "  return np.nanmean(a, axis=axis, dtype=dtype)\n"
     ]
    },
    {
     "name": "stdout",
     "output_type": "stream",
     "text": [
      "\n",
      "    RMSE: 18.570389915531464\n",
      "    bias: 1.408993890092329\n",
      "    corr: 0.8642889306440947\n",
      "    AAE: 12.486269437403662\n",
      "\n",
      "    \n",
      "CNRM\n"
     ]
    },
    {
     "name": "stderr",
     "output_type": "stream",
     "text": [
      "/home/gloege/.conda/envs/tensorflow/lib/python3.7/site-packages/xarray/core/nanops.py:140: RuntimeWarning: Mean of empty slice\n",
      "  return np.nanmean(a, axis=axis, dtype=dtype)\n"
     ]
    },
    {
     "name": "stdout",
     "output_type": "stream",
     "text": [
      "\n",
      "    RMSE: 19.175652146724197\n",
      "    bias: 2.0141024713494136\n",
      "    corr: 0.8552956904426854\n",
      "    AAE: 12.818712421652208\n",
      "\n",
      "    \n",
      "MPI\n"
     ]
    },
    {
     "name": "stderr",
     "output_type": "stream",
     "text": [
      "/home/gloege/.conda/envs/tensorflow/lib/python3.7/site-packages/xarray/core/nanops.py:140: RuntimeWarning: Mean of empty slice\n",
      "  return np.nanmean(a, axis=axis, dtype=dtype)\n"
     ]
    },
    {
     "name": "stdout",
     "output_type": "stream",
     "text": [
      "\n",
      "    RMSE: 18.709887917340996\n",
      "    bias: 1.805605018494862\n",
      "    corr: 0.8629272760897889\n",
      "    AAE: 12.508109775384831\n",
      "\n",
      "    \n",
      "NEMO\n"
     ]
    },
    {
     "name": "stderr",
     "output_type": "stream",
     "text": [
      "/home/gloege/.conda/envs/tensorflow/lib/python3.7/site-packages/xarray/core/nanops.py:140: RuntimeWarning: Mean of empty slice\n",
      "  return np.nanmean(a, axis=axis, dtype=dtype)\n"
     ]
    },
    {
     "name": "stdout",
     "output_type": "stream",
     "text": [
      "\n",
      "    RMSE: 19.222813720211906\n",
      "    bias: 1.756557698782016\n",
      "    corr: 0.8551704931971\n",
      "    AAE: 12.782662259342384\n",
      "\n",
      "    \n",
      "NORESM\n"
     ]
    },
    {
     "name": "stderr",
     "output_type": "stream",
     "text": [
      "/home/gloege/.conda/envs/tensorflow/lib/python3.7/site-packages/xarray/core/nanops.py:140: RuntimeWarning: Mean of empty slice\n",
      "  return np.nanmean(a, axis=axis, dtype=dtype)\n"
     ]
    },
    {
     "name": "stdout",
     "output_type": "stream",
     "text": [
      "\n",
      "    RMSE: 19.582094534850143\n",
      "    bias: 1.9965064935761379\n",
      "    corr: 0.8509732868353663\n",
      "    AAE: 12.864728880418129\n",
      "\n",
      "    \n",
      "RECOM\n"
     ]
    },
    {
     "name": "stderr",
     "output_type": "stream",
     "text": [
      "/home/gloege/.conda/envs/tensorflow/lib/python3.7/site-packages/xarray/core/nanops.py:140: RuntimeWarning: Mean of empty slice\n",
      "  return np.nanmean(a, axis=axis, dtype=dtype)\n"
     ]
    },
    {
     "name": "stdout",
     "output_type": "stream",
     "text": [
      "\n",
      "    RMSE: 18.941855073334395\n",
      "    bias: 1.4772536559534273\n",
      "    corr: 0.8600981441171273\n",
      "    AAE: 12.77044949685289\n",
      "\n",
      "    \n",
      "all\n"
     ]
    },
    {
     "name": "stderr",
     "output_type": "stream",
     "text": [
      "/home/gloege/.conda/envs/tensorflow/lib/python3.7/site-packages/xarray/core/nanops.py:140: RuntimeWarning: Mean of empty slice\n",
      "  return np.nanmean(a, axis=axis, dtype=dtype)\n"
     ]
    },
    {
     "name": "stdout",
     "output_type": "stream",
     "text": [
      "\n",
      "    RMSE: 18.814846306984\n",
      "    bias: 1.366469650604804\n",
      "    corr: 0.8582423139501829\n",
      "    AAE: 12.77706144109385\n",
      "\n",
      "    \n"
     ]
    }
   ],
   "source": [
    "for product in dict_spco2.keys():\n",
    "    print(f'{product}')\n",
    "    \n",
    "    ds_data = xr.open_dataset(dict_data['glodap'])\n",
    "    ds_prod = xr.open_dataset(dict_spco2[product])\n",
    "\n",
    "    (pred, obs) = xr.align(ds_prod['spco2'], ds_data['spco2_mean'])\n",
    "    pred = pred.where((obs>0) & (pred>0))\n",
    "    obs = obs.where((obs>0) & (pred>0))\n",
    "\n",
    "    txt= f'''\n",
    "    RMSE: {rmse(obs.stack(z=['time','lat','lon']).dropna('z').values, \n",
    "                pred.stack(z=['time','lat','lon']).dropna('z').values)}\n",
    "    bias: {bias(obs,pred).values}\n",
    "    corr: {pearsonr(obs.stack(z=['time','lat','lon']).dropna('z').values, \n",
    "                    pred.stack(z=['time','lat','lon']).dropna('z').values)[0]}\n",
    "    AAE: {aae(obs,pred).values}\n",
    "\n",
    "    '''\n",
    "\n",
    "    print(txt)"
   ]
  },
  {
   "cell_type": "markdown",
   "metadata": {},
   "source": [
    "# Stats for time series"
   ]
  },
  {
   "cell_type": "code",
   "execution_count": 114,
   "metadata": {},
   "outputs": [
    {
     "name": "stdout",
     "output_type": "stream",
     "text": [
      "CSIR\n",
      "\n",
      "    RMSE: 8.435497517667862\n",
      "    bias: 1.668834314738831\n",
      "    corr: 0.9055073891167784\n",
      "    AAE: 6.7375705858633035\n",
      "\n",
      "    \n",
      "SOMFFN\n",
      "\n",
      "    RMSE: 9.093575566160938\n",
      "    bias: -0.04121513075500616\n",
      "    corr: 0.889518429335657\n",
      "    AAE: 7.098221593958732\n",
      "\n",
      "    \n",
      "JMAMLR\n",
      "\n",
      "    RMSE: 11.272834136103333\n",
      "    bias: 1.4520336051855907\n",
      "    corr: 0.8791910129731604\n",
      "    AAE: 8.851301024483037\n",
      "\n",
      "    \n",
      "LSCE\n",
      "\n",
      "    RMSE: 9.52389658542815\n",
      "    bias: 3.4997239299516423\n",
      "    corr: 0.8974080903780008\n",
      "    AAE: 7.461117781778249\n",
      "\n",
      "    \n"
     ]
    }
   ],
   "source": [
    "for product in dict_prod.keys():\n",
    "    print(f'{product}')\n",
    "    \n",
    "    ds_data = ds_hot_mon['spco2']\n",
    "    ds_prod = xr.open_dataset(dict_prod[product]).sel(lat=HOT['lat'],\n",
    "                                                      lon=HOT['lon'], method='nearest')\n",
    "\n",
    "    (pred, obs) = xr.align(ds_prod['spco2'], ds_data)\n",
    "    pred = pred.where((obs>0) & (pred>0))\n",
    "    obs = obs.where((obs>0) & (pred>0))\n",
    "\n",
    "    txt= f'''\n",
    "    RMSE: {rmse(obs.stack(z=['time']).dropna('z').values, \n",
    "                pred.stack(z=['time']).dropna('z').values)}\n",
    "    bias: {bias(obs,pred).values}\n",
    "    corr: {pearsonr(obs.stack(z=['time']).dropna('z').values, \n",
    "                    pred.stack(z=['time']).dropna('z').values)[0]}\n",
    "    AAE: {aae(obs,pred).values}\n",
    "\n",
    "    '''\n",
    "\n",
    "    print(txt)"
   ]
  },
  {
   "cell_type": "code",
   "execution_count": null,
   "metadata": {},
   "outputs": [],
   "source": []
  }
 ],
 "metadata": {
  "kernelspec": {
   "display_name": "tensorflow",
   "language": "python",
   "name": "tensorflow"
  },
  "language_info": {
   "codemirror_mode": {
    "name": "ipython",
    "version": 3
   },
   "file_extension": ".py",
   "mimetype": "text/x-python",
   "name": "python",
   "nbconvert_exporter": "python",
   "pygments_lexer": "ipython3",
   "version": "3.7.6"
  }
 },
 "nbformat": 4,
 "nbformat_minor": 2
}
