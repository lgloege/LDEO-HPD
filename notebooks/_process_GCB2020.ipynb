{
 "cells": [
  {
   "cell_type": "code",
   "execution_count": 1,
   "metadata": {},
   "outputs": [],
   "source": [
    "%matplotlib inline\n",
    "import matplotlib.pyplot as plt\n",
    "import os\n",
    "import numpy as np\n",
    "import xarray as xr\n",
    "import pandas as pd\n",
    "import glob"
   ]
  },
  {
   "cell_type": "code",
   "execution_count": 2,
   "metadata": {},
   "outputs": [],
   "source": [
    "### ================================================\n",
    "### force time vector to be proper format and range\n",
    "### ================================================\n",
    "def make_dates(start=None, end=None):\n",
    "    '''\n",
    "    Creates a monthly DateTime64 vector centered on 15th each month\n",
    "    \n",
    "    Input\n",
    "    =========\n",
    "    start : str 'YYYY-MM'\n",
    "    end :   str 'YYYY-MM'\n",
    "            \n",
    "    Output\n",
    "    =========\n",
    "    dates : dataArray \n",
    "    \n",
    "    Example\n",
    "    ==========\n",
    "    dates = make_dates(start='1990-01', end='2017-12')\n",
    "    '''\n",
    "    dates = pd.date_range(start=f'{start}-01T00:00:00.000000000', \n",
    "                          end=f'{end}-01T00:00:00.000000000',\n",
    "                          freq='MS')+ np.timedelta64(14, 'D')\n",
    "    da = xr.DataArray(dates, dims='time')\n",
    "    \n",
    "    return da"
   ]
  },
  {
   "cell_type": "code",
   "execution_count": 3,
   "metadata": {},
   "outputs": [],
   "source": [
    "def convert_to_datetime64(times, use_cftime):\n",
    "    \"\"\"\n",
    "    Return times as np.datetime64[ns] or cftime.DatetimeProlepticGregorian\n",
    "    depending on whether the dates fall within the inclusive bounds of \n",
    "    np.datetime64[ns]: [1678-01-01 AD, 2261-12-31 AD].\n",
    "\n",
    "    Alternatively, always returns as cftime.DatetimeProlepticGregorian if\n",
    "    `use_cf_time` is True.\n",
    "    \n",
    "    source : https://gitlab.com/deltares/imod/imod-python/commit/9b1ae0e9a51b0fefe6ef86c2a2f9ef988024b464\n",
    "    \"\"\"\n",
    "    out_of_bounds = False\n",
    "    if use_cftime:\n",
    "        converted = [\n",
    "            cftime.DatetimeProlepticGregorian(*time.timetuple()[:6]) for time in times\n",
    "        ]\n",
    "    else:\n",
    "        for time in times:\n",
    "            year = time.year\n",
    "            if year < 1678 or year > 2261:\n",
    "                out_of_bounds = True\n",
    "                break\n",
    "\n",
    "        if out_of_bounds:\n",
    "            warnings.warn(\n",
    "                \"Dates are outside of np.datetime64[ns] timespan.\"\n",
    "                \"Converting to cftime.DatetimeProlepticGregorian.\"\n",
    "            )\n",
    "            converted = [\n",
    "                cftime.DatetimeProlepticGregorian(*time.timetuple()[:6]) for time in times\n",
    "            ]\n",
    "        else:\n",
    "            converted = [np.datetime64(time, \"ns\") for time in times]\n",
    "\n",
    "    return converted"
   ]
  },
  {
   "cell_type": "markdown",
   "metadata": {},
   "source": [
    "## Save pCO2"
   ]
  },
  {
   "cell_type": "code",
   "execution_count": 4,
   "metadata": {},
   "outputs": [],
   "source": [
    "# load data\n",
    "ds_mod = xr.open_dataset('/local/data/artemis/simulations/GCB/2020models/gcb_load_A_2020.nc', decode_times=False)\n",
    "\n",
    "# only load these models\n",
    "models = [ 'cesm_spco2_1x1_A', \n",
    "           'csiro_spco2_1x1_A',\n",
    "           'fesom_spco2_1x1_A',\n",
    "           'mpi_spco2_1x1_A', \n",
    "           'cnrm_spco2_1x1_A',\n",
    "           'planktom_spco2_1x1_A',\n",
    "           'noresm_spco2_1x1_A',\n",
    "           'princeton_spco2_1x1_A',]\n",
    "\n",
    "# only load variables need and change coord names\n",
    "ds_mod = ds_mod[models]\n",
    "ds_mod = ds_mod.rename({'T':'time','Y':'lat','X':'lon'})\n",
    "ds_mod['time'] = make_dates(start='1958-01', end='2019-12')\n",
    "\n",
    "# load ipsl model\n",
    "ds_ipsl = xr.open_dataset('/local/data/artemis/workspace/gloege/data/GCB/IPSL_corrected.nc').rename({'months':'time'})\n",
    "ds_ipsl['time'] = make_dates(start='1958-01', end='2019-12')\n",
    "ds_ipsl['lon'] = list(map(lambda x: x+360 if x<0 else x, ds_ipsl['lon'].values))\n",
    "\n",
    "# add corrected ipsl model\n",
    "ds_mod['ipsl_spco2_1x1_A'] = ds_ipsl['IPSL_pco2_corrected'].transpose('time','lat','lon')\n",
    "\n",
    "# select years\n",
    "ds_mod = ds_mod.sel(time=slice('1982-01','2019-12'))"
   ]
  },
  {
   "cell_type": "code",
   "execution_count": 5,
   "metadata": {},
   "outputs": [],
   "source": [
    "ds_mod.to_netcdf('/local/data/artemis/workspace/gloege/data/GCB/GCB2020-spco2_1x1_mon_198201-201912.nc')"
   ]
  },
  {
   "cell_type": "code",
   "execution_count": 9,
   "metadata": {},
   "outputs": [
    {
     "data": {
      "text/plain": [
       "<xarray.DataArray 'lat' (lat: 180)>\n",
       "array([-89.5, -88.5, -87.5, -86.5, -85.5, -84.5, -83.5, -82.5, -81.5, -80.5,\n",
       "       -79.5, -78.5, -77.5, -76.5, -75.5, -74.5, -73.5, -72.5, -71.5, -70.5,\n",
       "       -69.5, -68.5, -67.5, -66.5, -65.5, -64.5, -63.5, -62.5, -61.5, -60.5,\n",
       "       -59.5, -58.5, -57.5, -56.5, -55.5, -54.5, -53.5, -52.5, -51.5, -50.5,\n",
       "       -49.5, -48.5, -47.5, -46.5, -45.5, -44.5, -43.5, -42.5, -41.5, -40.5,\n",
       "       -39.5, -38.5, -37.5, -36.5, -35.5, -34.5, -33.5, -32.5, -31.5, -30.5,\n",
       "       -29.5, -28.5, -27.5, -26.5, -25.5, -24.5, -23.5, -22.5, -21.5, -20.5,\n",
       "       -19.5, -18.5, -17.5, -16.5, -15.5, -14.5, -13.5, -12.5, -11.5, -10.5,\n",
       "        -9.5,  -8.5,  -7.5,  -6.5,  -5.5,  -4.5,  -3.5,  -2.5,  -1.5,  -0.5,\n",
       "         0.5,   1.5,   2.5,   3.5,   4.5,   5.5,   6.5,   7.5,   8.5,   9.5,\n",
       "        10.5,  11.5,  12.5,  13.5,  14.5,  15.5,  16.5,  17.5,  18.5,  19.5,\n",
       "        20.5,  21.5,  22.5,  23.5,  24.5,  25.5,  26.5,  27.5,  28.5,  29.5,\n",
       "        30.5,  31.5,  32.5,  33.5,  34.5,  35.5,  36.5,  37.5,  38.5,  39.5,\n",
       "        40.5,  41.5,  42.5,  43.5,  44.5,  45.5,  46.5,  47.5,  48.5,  49.5,\n",
       "        50.5,  51.5,  52.5,  53.5,  54.5,  55.5,  56.5,  57.5,  58.5,  59.5,\n",
       "        60.5,  61.5,  62.5,  63.5,  64.5,  65.5,  66.5,  67.5,  68.5,  69.5,\n",
       "        70.5,  71.5,  72.5,  73.5,  74.5,  75.5,  76.5,  77.5,  78.5,  79.5,\n",
       "        80.5,  81.5,  82.5,  83.5,  84.5,  85.5,  86.5,  87.5,  88.5,  89.5])\n",
       "Coordinates:\n",
       "  * lat      (lat) float64 -89.5 -88.5 -87.5 -86.5 -85.5 ... 86.5 87.5 88.5 89.5\n",
       "Attributes:\n",
       "    units:    degrees east"
      ]
     },
     "execution_count": 9,
     "metadata": {},
     "output_type": "execute_result"
    }
   ],
   "source": [
    "ds_mod.lat"
   ]
  },
  {
   "cell_type": "markdown",
   "metadata": {},
   "source": [
    "## Save fgCO2"
   ]
  },
  {
   "cell_type": "code",
   "execution_count": 9,
   "metadata": {},
   "outputs": [],
   "source": [
    "del ds_mod"
   ]
  },
  {
   "cell_type": "code",
   "execution_count": 10,
   "metadata": {},
   "outputs": [],
   "source": [
    "# load data\n",
    "ds_mod = xr.open_dataset('/local/data/artemis/simulations/GCB/2020models/gcb_load_A_2020.nc', decode_times=False)\n",
    "\n",
    "# only load these models\n",
    "models = [ 'cesm_fgco2_1x1_A', \n",
    "           'csiro_fgco2_1x1_A',\n",
    "           'fesom_fgco2_1x1_A',\n",
    "           'ipsl_fgco2_1x1_A',\n",
    "           'mpi_fgco2_1x1_A', \n",
    "           'cnrm_fgco2_1x1_A',\n",
    "           'planktom_fgco2_1x1_A',\n",
    "           'noresm_fgco2_1x1_A',\n",
    "           'princeton_fgco2_1x1_A',]\n",
    "\n",
    "# only load variables need and change coord names\n",
    "ds_mod = ds_mod[models]\n",
    "ds_mod = ds_mod.rename({'T':'time','Y':'lat','X':'lon'})\n",
    "ds_mod['time'] = make_dates(start='1958-01', end='2019-12')\n",
    "\n",
    "# select years\n",
    "ds_mod = ds_mod.sel(time=slice('1982-01','2019-12'))"
   ]
  },
  {
   "cell_type": "code",
   "execution_count": 11,
   "metadata": {},
   "outputs": [],
   "source": [
    "ds_mod.to_netcdf('/local/data/artemis/workspace/gloege/data/GCB/GCB2020_fgco2_1x1_A.nc')"
   ]
  },
  {
   "cell_type": "code",
   "execution_count": null,
   "metadata": {},
   "outputs": [],
   "source": []
  }
 ],
 "metadata": {
  "kernelspec": {
   "display_name": "tensorflow",
   "language": "python",
   "name": "tensorflow"
  },
  "language_info": {
   "codemirror_mode": {
    "name": "ipython",
    "version": 3
   },
   "file_extension": ".py",
   "mimetype": "text/x-python",
   "name": "python",
   "nbconvert_exporter": "python",
   "pygments_lexer": "ipython3",
   "version": "3.7.6"
  }
 },
 "nbformat": 4,
 "nbformat_minor": 2
}
